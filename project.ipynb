{
 "cells": [
  {
   "cell_type": "markdown",
   "metadata": {},
   "source": [
    "1. \n",
    "\n",
    "In high-dimensional space, the unit ball B ^d exhibits a unique geometric property where the majority of its volume is concentrated near the boundary, or the sphere S ^(d−1), as the dimension d increases. This phenomenon can be understood by considering the scaling behavior of volume in higher dimensions. In a low-dimensional setting, such as a unit disk, the area near the boundary is significantly larger compared to the area near the center, and this effect becomes even more pronounced for spheres. \n",
    "\n",
    "The volume of a sphere is proportional to a power of the radius, which amplifies the contribution of regions near the boundary as the dimension grows. In high-dimensional spaces, when the ball is sliced into thin shells, the outermost layers near the boundary contain a disproportionately large portion of the total volume, while the inner regions near the center contribute very little. Therefore, in high dimensions, the available volume deep inside the ball becomes less significant compared to the volume in the outer layers. As a result, most points in the ball are found close to the surface, which leads to the conclusion that as d increases, the volume of the unit ball is heavily concentrated near the sphere S ^ (d−1), rather than uniformly distributed throughout the ball."
   ]
  },
  {
   "cell_type": "code",
   "execution_count": 3,
   "metadata": {},
   "outputs": [
    {
     "name": "stdout",
     "output_type": "stream",
     "text": [
      "2.3956396082216835e-40\n"
     ]
    }
   ],
   "source": [
    "# 2b \n",
    "\n",
    "import numpy as np\n",
    "\n",
    "n = 100000\n",
    "d = 100  \n",
    "sigma_star = 1 / np.sqrt(d)\n",
    "\n",
    "def f_sigma_star(x, sigma_star):\n",
    "    return (1 / (np.sqrt(2 * np.pi) * sigma_star) ** d) * np.exp(-np.sum(x ** 2) / (2 * sigma_star ** 2))\n",
    "\n",
    "def H(x):\n",
    "    return 1 if np.sum(x ** 2) < 1 else 0\n",
    "\n",
    "samples = np.random.normal(0, sigma_star, (n, d))\n",
    "\n",
    "H_values = np.array([H(sample) for sample in samples])\n",
    "f_values = np.array([f_sigma_star(sample, sigma_star) for sample in samples])\n",
    "\n",
    "v_d = np.mean(H_values / f_values)\n",
    "print(v_d)\n"
   ]
  }
 ],
 "metadata": {
  "kernelspec": {
   "display_name": "data1030",
   "language": "python",
   "name": "python3"
  },
  "language_info": {
   "codemirror_mode": {
    "name": "ipython",
    "version": 3
   },
   "file_extension": ".py",
   "mimetype": "text/x-python",
   "name": "python",
   "nbconvert_exporter": "python",
   "pygments_lexer": "ipython3",
   "version": "3.12.5"
  }
 },
 "nbformat": 4,
 "nbformat_minor": 2
}
